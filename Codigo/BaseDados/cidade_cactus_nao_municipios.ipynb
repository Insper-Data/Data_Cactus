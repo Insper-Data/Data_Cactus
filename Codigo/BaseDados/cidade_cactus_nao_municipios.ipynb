{
 "cells": [
  {
   "cell_type": "code",
   "execution_count": 1,
   "metadata": {},
   "outputs": [],
   "source": [
    "import requests, six\n",
    "import lxml.html as lh\n",
    "import pandas as pd\n",
    "from itertools import cycle, islice\n",
    "from matplotlib import colors\n",
    "import matplotlib.pyplot as plt\n",
    "%matplotlib inline\n",
    "import numpy as np"
   ]
  },
  {
   "cell_type": "code",
   "execution_count": 3,
   "metadata": {},
   "outputs": [],
   "source": [
    "df_5 = pd.read_excel(\"base_dados/IDEB_municipios_ceara_5_ano.xlsx\")\n",
    "df_9 = pd.read_excel(\"base_dados/IDEB_municipios_ceara_9_ano.xlsx\")\n",
    "saeb = pd.read_excel(\"base_dados/saeb_2017_2019.xlsx\")\n"
   ]
  },
  {
   "cell_type": "code",
   "execution_count": 4,
   "metadata": {},
   "outputs": [
    {
     "data": {
      "text/html": [
       "<div>\n",
       "<style scoped>\n",
       "    .dataframe tbody tr th:only-of-type {\n",
       "        vertical-align: middle;\n",
       "    }\n",
       "\n",
       "    .dataframe tbody tr th {\n",
       "        vertical-align: top;\n",
       "    }\n",
       "\n",
       "    .dataframe thead th {\n",
       "        text-align: right;\n",
       "    }\n",
       "</style>\n",
       "<table border=\"1\" class=\"dataframe\">\n",
       "  <thead>\n",
       "    <tr style=\"text-align: right;\">\n",
       "      <th></th>\n",
       "      <th>Sigla da UF</th>\n",
       "      <th>Código do Município</th>\n",
       "      <th>Nome do Município</th>\n",
       "      <th>Código da Escola</th>\n",
       "      <th>Nome da Escola</th>\n",
       "      <th>Rede</th>\n",
       "      <th>ano</th>\n",
       "      <th>MT_5o</th>\n",
       "      <th>IDEB_5o</th>\n",
       "      <th>MT_9o</th>\n",
       "      <th>IDEB_9o</th>\n",
       "    </tr>\n",
       "  </thead>\n",
       "  <tbody>\n",
       "    <tr>\n",
       "      <th>0</th>\n",
       "      <td>CE</td>\n",
       "      <td>2300101</td>\n",
       "      <td>Abaiara</td>\n",
       "      <td>23168862</td>\n",
       "      <td>CORONEL HUMBERTO BEZERRA EEIF</td>\n",
       "      <td>Municipal</td>\n",
       "      <td>2005</td>\n",
       "      <td>163.95</td>\n",
       "      <td>3.2</td>\n",
       "      <td>NaN</td>\n",
       "      <td>NaN</td>\n",
       "    </tr>\n",
       "    <tr>\n",
       "      <th>1</th>\n",
       "      <td>CE</td>\n",
       "      <td>2300101</td>\n",
       "      <td>Abaiara</td>\n",
       "      <td>23168862</td>\n",
       "      <td>CORONEL HUMBERTO BEZERRA EEIF</td>\n",
       "      <td>Municipal</td>\n",
       "      <td>2007</td>\n",
       "      <td>160.48</td>\n",
       "      <td>3.4</td>\n",
       "      <td>205.61</td>\n",
       "      <td>3.3</td>\n",
       "    </tr>\n",
       "    <tr>\n",
       "      <th>2</th>\n",
       "      <td>CE</td>\n",
       "      <td>2300101</td>\n",
       "      <td>Abaiara</td>\n",
       "      <td>23168862</td>\n",
       "      <td>CORONEL HUMBERTO BEZERRA EEIF</td>\n",
       "      <td>Municipal</td>\n",
       "      <td>2009</td>\n",
       "      <td>268.85</td>\n",
       "      <td>6.7</td>\n",
       "      <td>332.84</td>\n",
       "      <td>5.7</td>\n",
       "    </tr>\n",
       "  </tbody>\n",
       "</table>\n",
       "</div>"
      ],
      "text/plain": [
       "  Sigla da UF  Código do Município Nome do Município  Código da Escola  \\\n",
       "0          CE              2300101           Abaiara          23168862   \n",
       "1          CE              2300101           Abaiara          23168862   \n",
       "2          CE              2300101           Abaiara          23168862   \n",
       "\n",
       "                  Nome da Escola       Rede   ano   MT_5o  IDEB_5o   MT_9o  \\\n",
       "0  CORONEL HUMBERTO BEZERRA EEIF  Municipal  2005  163.95      3.2     NaN   \n",
       "1  CORONEL HUMBERTO BEZERRA EEIF  Municipal  2007  160.48      3.4  205.61   \n",
       "2  CORONEL HUMBERTO BEZERRA EEIF  Municipal  2009  268.85      6.7  332.84   \n",
       "\n",
       "   IDEB_9o  \n",
       "0      NaN  \n",
       "1      3.3  \n",
       "2      5.7  "
      ]
     },
     "execution_count": 4,
     "metadata": {},
     "output_type": "execute_result"
    }
   ],
   "source": [
    "saeb_ideb_5_9.head(3)"
   ]
  },
  {
   "cell_type": "code",
   "execution_count": 3,
   "metadata": {},
   "outputs": [
    {
     "data": {
      "text/html": [
       "<div>\n",
       "<style scoped>\n",
       "    .dataframe tbody tr th:only-of-type {\n",
       "        vertical-align: middle;\n",
       "    }\n",
       "\n",
       "    .dataframe tbody tr th {\n",
       "        vertical-align: top;\n",
       "    }\n",
       "\n",
       "    .dataframe thead th {\n",
       "        text-align: right;\n",
       "    }\n",
       "</style>\n",
       "<table border=\"1\" class=\"dataframe\">\n",
       "  <thead>\n",
       "    <tr style=\"text-align: right;\">\n",
       "      <th></th>\n",
       "      <th>Município</th>\n",
       "      <th>ano_2005</th>\n",
       "      <th>ano_2007</th>\n",
       "      <th>ano_2009</th>\n",
       "      <th>ano_2011</th>\n",
       "      <th>ano_2013</th>\n",
       "      <th>ano_2015</th>\n",
       "      <th>ano_2017</th>\n",
       "      <th>ano_2019</th>\n",
       "    </tr>\n",
       "  </thead>\n",
       "  <tbody>\n",
       "    <tr>\n",
       "      <th>0</th>\n",
       "      <td>ABAIARA</td>\n",
       "      <td>3.5</td>\n",
       "      <td>3.5</td>\n",
       "      <td>6.5</td>\n",
       "      <td>5.8</td>\n",
       "      <td>7.1</td>\n",
       "      <td>5.5</td>\n",
       "      <td>5.8</td>\n",
       "      <td>6.1</td>\n",
       "    </tr>\n",
       "    <tr>\n",
       "      <th>1</th>\n",
       "      <td>ACARAPE</td>\n",
       "      <td>2.6</td>\n",
       "      <td>3.0</td>\n",
       "      <td>3.1</td>\n",
       "      <td>4.1</td>\n",
       "      <td>3.9</td>\n",
       "      <td>5.4</td>\n",
       "      <td>5.4</td>\n",
       "      <td>5.4</td>\n",
       "    </tr>\n",
       "    <tr>\n",
       "      <th>2</th>\n",
       "      <td>ACARAÚ</td>\n",
       "      <td>3.4</td>\n",
       "      <td>3.7</td>\n",
       "      <td>4.0</td>\n",
       "      <td>4.8</td>\n",
       "      <td>4.5</td>\n",
       "      <td>5.3</td>\n",
       "      <td>6.3</td>\n",
       "      <td>6.5</td>\n",
       "    </tr>\n",
       "    <tr>\n",
       "      <th>3</th>\n",
       "      <td>ACOPIARA</td>\n",
       "      <td>2.8</td>\n",
       "      <td>3.5</td>\n",
       "      <td>4.4</td>\n",
       "      <td>4.8</td>\n",
       "      <td>5.0</td>\n",
       "      <td>6.0</td>\n",
       "      <td>6.0</td>\n",
       "      <td>6.0</td>\n",
       "    </tr>\n",
       "    <tr>\n",
       "      <th>4</th>\n",
       "      <td>AIUABA</td>\n",
       "      <td>4.4</td>\n",
       "      <td>3.9</td>\n",
       "      <td>4.6</td>\n",
       "      <td>5.4</td>\n",
       "      <td>6.0</td>\n",
       "      <td>5.8</td>\n",
       "      <td>6.1</td>\n",
       "      <td>6.8</td>\n",
       "    </tr>\n",
       "  </tbody>\n",
       "</table>\n",
       "</div>"
      ],
      "text/plain": [
       "  Município  ano_2005  ano_2007  ano_2009  ano_2011  ano_2013  ano_2015  \\\n",
       "0   ABAIARA       3.5       3.5       6.5       5.8       7.1       5.5   \n",
       "1   ACARAPE       2.6       3.0       3.1       4.1       3.9       5.4   \n",
       "2    ACARAÚ       3.4       3.7       4.0       4.8       4.5       5.3   \n",
       "3  ACOPIARA       2.8       3.5       4.4       4.8       5.0       6.0   \n",
       "4    AIUABA       4.4       3.9       4.6       5.4       6.0       5.8   \n",
       "\n",
       "   ano_2017  ano_2019  \n",
       "0       5.8       6.1  \n",
       "1       5.4       5.4  \n",
       "2       6.3       6.5  \n",
       "3       6.0       6.0  \n",
       "4       6.1       6.8  "
      ]
     },
     "execution_count": 3,
     "metadata": {},
     "output_type": "execute_result"
    }
   ],
   "source": [
    "df_5.head()"
   ]
  },
  {
   "cell_type": "code",
   "execution_count": 4,
   "metadata": {},
   "outputs": [
    {
     "data": {
      "text/html": [
       "<div>\n",
       "<style scoped>\n",
       "    .dataframe tbody tr th:only-of-type {\n",
       "        vertical-align: middle;\n",
       "    }\n",
       "\n",
       "    .dataframe tbody tr th {\n",
       "        vertical-align: top;\n",
       "    }\n",
       "\n",
       "    .dataframe thead th {\n",
       "        text-align: right;\n",
       "    }\n",
       "</style>\n",
       "<table border=\"1\" class=\"dataframe\">\n",
       "  <thead>\n",
       "    <tr style=\"text-align: right;\">\n",
       "      <th></th>\n",
       "      <th>Município</th>\n",
       "      <th>ano_2005</th>\n",
       "      <th>ano_2007</th>\n",
       "      <th>ano_2009</th>\n",
       "      <th>ano_2011</th>\n",
       "      <th>ano_2013</th>\n",
       "      <th>ano_2015</th>\n",
       "      <th>ano_2017</th>\n",
       "      <th>ano_2019</th>\n",
       "    </tr>\n",
       "  </thead>\n",
       "  <tbody>\n",
       "    <tr>\n",
       "      <th>0</th>\n",
       "      <td>ABAIARA</td>\n",
       "      <td>3.4</td>\n",
       "      <td>3.2</td>\n",
       "      <td>5.0</td>\n",
       "      <td>4.0</td>\n",
       "      <td>4.1</td>\n",
       "      <td>4.4</td>\n",
       "      <td>4.8</td>\n",
       "      <td>4.6</td>\n",
       "    </tr>\n",
       "    <tr>\n",
       "      <th>1</th>\n",
       "      <td>ACARAPE</td>\n",
       "      <td>2.6</td>\n",
       "      <td>3.1</td>\n",
       "      <td>3.4</td>\n",
       "      <td>3.3</td>\n",
       "      <td>3.4</td>\n",
       "      <td>3.9</td>\n",
       "      <td>4.7</td>\n",
       "      <td>4.9</td>\n",
       "    </tr>\n",
       "    <tr>\n",
       "      <th>2</th>\n",
       "      <td>ACARAÚ</td>\n",
       "      <td>3.4</td>\n",
       "      <td>3.5</td>\n",
       "      <td>3.6</td>\n",
       "      <td>4.0</td>\n",
       "      <td>4.2</td>\n",
       "      <td>4.5</td>\n",
       "      <td>5.1</td>\n",
       "      <td>5.3</td>\n",
       "    </tr>\n",
       "    <tr>\n",
       "      <th>3</th>\n",
       "      <td>ACOPIARA</td>\n",
       "      <td>3.0</td>\n",
       "      <td>3.5</td>\n",
       "      <td>4.0</td>\n",
       "      <td>4.1</td>\n",
       "      <td>4.3</td>\n",
       "      <td>5.4</td>\n",
       "      <td>5.2</td>\n",
       "      <td>5.5</td>\n",
       "    </tr>\n",
       "    <tr>\n",
       "      <th>4</th>\n",
       "      <td>AIUABA</td>\n",
       "      <td>2.2</td>\n",
       "      <td>3.8</td>\n",
       "      <td>4.5</td>\n",
       "      <td>4.8</td>\n",
       "      <td>4.4</td>\n",
       "      <td>4.8</td>\n",
       "      <td>4.8</td>\n",
       "      <td>5.5</td>\n",
       "    </tr>\n",
       "  </tbody>\n",
       "</table>\n",
       "</div>"
      ],
      "text/plain": [
       "  Município  ano_2005  ano_2007  ano_2009  ano_2011  ano_2013  ano_2015  \\\n",
       "0   ABAIARA       3.4       3.2       5.0       4.0       4.1       4.4   \n",
       "1   ACARAPE       2.6       3.1       3.4       3.3       3.4       3.9   \n",
       "2    ACARAÚ       3.4       3.5       3.6       4.0       4.2       4.5   \n",
       "3  ACOPIARA       3.0       3.5       4.0       4.1       4.3       5.4   \n",
       "4    AIUABA       2.2       3.8       4.5       4.8       4.4       4.8   \n",
       "\n",
       "   ano_2017  ano_2019  \n",
       "0       4.8       4.6  \n",
       "1       4.7       4.9  \n",
       "2       5.1       5.3  \n",
       "3       5.2       5.5  \n",
       "4       4.8       5.5  "
      ]
     },
     "execution_count": 4,
     "metadata": {},
     "output_type": "execute_result"
    }
   ],
   "source": [
    "df_9.head()"
   ]
  },
  {
   "cell_type": "code",
   "execution_count": 99,
   "metadata": {},
   "outputs": [
    {
     "data": {
      "text/plain": [
       "['Acaraú',\n",
       " 'Beberibe',\n",
       " 'Crateús',\n",
       " 'Capistrano',\n",
       " 'Cruz',\n",
       " 'Jijoca De Jericoacoara',\n",
       " 'Madalena',\n",
       " 'Morrinhos',\n",
       " 'Panelas',\n",
       " 'Pires Ferreira',\n",
       " 'Pereiro',\n",
       " 'Reriutaba',\n",
       " 'Ubajara',\n",
       " 'Tauá']"
      ]
     },
     "execution_count": 99,
     "metadata": {},
     "output_type": "execute_result"
    }
   ],
   "source": [
    "cidade_cactus = [\"Acaraú\", \"Beberibe\", \"Crateús\", \"Capistrano\", \"Cruz\",\n",
    "                \"Jijoca De Jericoacoara\", \"Madalena\", \"Morrinhos\", \"Panelas\", \"Pires Ferreira\",\n",
    "                \"Pereiro\", \"Reriutaba\", \"Ubajara\", \"Tauá\"]\n",
    "cidade_cactus"
   ]
  },
  {
   "cell_type": "code",
   "execution_count": 100,
   "metadata": {},
   "outputs": [],
   "source": [
    "df_5['Município'] = df_5['Município'].str.title()\n",
    "df_9['Município'] = df_9['Município'].str.title()"
   ]
  },
  {
   "cell_type": "code",
   "execution_count": 107,
   "metadata": {},
   "outputs": [],
   "source": [
    "lista_cactus_5 = []\n",
    "for index, row in df_5.iterrows():\n",
    "    if row['Município'] in cidade_cactus:\n",
    "        lista_cactus_5.append(\"cidade-cactus\")\n",
    "    elsea\n",
    "        lista_cactus_5.append(\"não cidade-cactus\")\n",
    "        \n",
    "df_5[\"cactus\"] = lista_cactus_5"
   ]
  },
  {
   "cell_type": "code",
   "execution_count": 102,
   "metadata": {},
   "outputs": [],
   "source": [
    "lista_cactus_9 = []\n",
    "for index, row in df_9.iterrows():\n",
    "    if row['Município'] in cidade_cactus:\n",
    "        lista_cactus_9.append(\"cidade-cactus\")\n",
    "    else:\n",
    "        lista_cactus_9.append(0)\n",
    "        \n",
    "df_9[\"cactus\"] = lista_cactus_9"
   ]
  },
  {
   "cell_type": "code",
   "execution_count": 103,
   "metadata": {},
   "outputs": [
    {
     "data": {
      "text/plain": [
       "['Município',\n",
       " 'CO_MUNICIPIO',\n",
       " 'ano_2007',\n",
       " 'ano_2009',\n",
       " 'ano_2011',\n",
       " 'ano_2013',\n",
       " 'ano_2015',\n",
       " 'ano_2017',\n",
       " 'ano_2019',\n",
       " 'cactus']"
      ]
     },
     "execution_count": 103,
     "metadata": {},
     "output_type": "execute_result"
    }
   ],
   "source": [
    "list(df_5.columns)"
   ]
  },
  {
   "cell_type": "code",
   "execution_count": 104,
   "metadata": {},
   "outputs": [
    {
     "data": {
      "text/plain": [
       "['Município',\n",
       " 'ano_2005',\n",
       " 'ano_2007',\n",
       " 'ano_2009',\n",
       " 'ano_2011',\n",
       " 'ano_2013',\n",
       " 'ano_2015',\n",
       " 'ano_2017',\n",
       " 'ano_2019',\n",
       " 'cactus']"
      ]
     },
     "execution_count": 104,
     "metadata": {},
     "output_type": "execute_result"
    }
   ],
   "source": [
    "list(df_9.columns)"
   ]
  },
  {
   "cell_type": "code",
   "execution_count": 109,
   "metadata": {},
   "outputs": [],
   "source": [
    "from siuba import *\n",
    "df_tidy_5 = (df_5 >>\n",
    "    gather(\"year\", \"notas\", \"ano_2013\", \"ano_2015\", \"ano_2017\", \"ano_2019\"))"
   ]
  },
  {
   "cell_type": "code",
   "execution_count": 110,
   "metadata": {},
   "outputs": [
    {
     "data": {
      "image/png": "[encoded data removed]",
      "text/plain": [
       "<Figure size 432x288 with 1 Axes>"
      ]
     },
     "metadata": {
      "needs_background": "light"
     },
     "output_type": "display_data"
    }
   ],
   "source": [
    "import seaborn as sns\n",
    "(sns.barplot(x = \"year\", y = \"notas\", hue = \"cactus\", data = df_tidy_5, errwidth = 0, alpha = 0.5)\n",
    "    .set(xlabel = \"ano\", ylabel = \"notas\", title = \"notas do IDEB 5 ano (cidade cactus vs cidade não cactus)\"));\n",
    "\n",
    "# teve um crescimento, porém não parece ter sido tão expressivo com a inserção da cactus"
   ]
  },
  {
   "cell_type": "code",
   "execution_count": 63,
   "metadata": {},
   "outputs": [],
   "source": [
    "from siuba import *\n",
    "df_tidy_9 = (df_9 >>\n",
    "    gather(\"year\", \"notas\", \"ano_2013\", \"ano_2015\", \"ano_2017\", \"ano_2019\"))"
   ]
  },
  {
   "cell_type": "code",
   "execution_count": 14,
   "metadata": {},
   "outputs": [
    {
     "data": {
      "image/png": "[encoded data removed]",
      "text/plain": [
       "<Figure size 432x288 with 1 Axes>"
      ]
     },
     "metadata": {
      "needs_background": "light"
     },
     "output_type": "display_data"
    }
   ],
   "source": [
    "import seaborn as sns\n",
    "(sns.barplot(x = \"year\", y = \"notas\", hue = \"cactus\", data = df_tidy_9, errwidth = 0, alpha = 0.5)\n",
    "    .set(xlabel = \"ano\", ylabel = \"notas\", title = \"notas 9 ano(cidade cactus vs cidade não cactus)\"));\n",
    "\n",
    "# teve um crescimento, porém não parece ter sido tão expressivo com a inserção da cactus"
   ]
  },
  {
   "cell_type": "code",
   "execution_count": null,
   "metadata": {},
   "outputs": [],
   "source": [
    "import seaborn as sns\n",
    "(sns.barplot(x = \"year\", y = \"notas\", hue = \"cactus\", data = df_tidy_9, errwidth = 0, alpha = 0.5)\n",
    "    .set(xlabel = \"ano\", ylabel = \"notas\", title = \"notas 9 ano(cidade cactus vs cidade não cactus)\"));\n",
    "\n",
    "# teve um crescimento, porém não parece ter sido tão expressivo com a inserção da cactus"
   ]
  },
  {
   "cell_type": "code",
   "execution_count": 22,
   "metadata": {},
   "outputs": [
    {
     "data": {
      "text/html": [
       "<div>\n",
       "<style scoped>\n",
       "    .dataframe tbody tr th:only-of-type {\n",
       "        vertical-align: middle;\n",
       "    }\n",
       "\n",
       "    .dataframe tbody tr th {\n",
       "        vertical-align: top;\n",
       "    }\n",
       "\n",
       "    .dataframe thead th {\n",
       "        text-align: right;\n",
       "    }\n",
       "</style>\n",
       "<table border=\"1\" class=\"dataframe\">\n",
       "  <thead>\n",
       "    <tr style=\"text-align: right;\">\n",
       "      <th></th>\n",
       "      <th>CO_UF</th>\n",
       "      <th>NO_UF</th>\n",
       "      <th>CO_MUNICIPIO</th>\n",
       "      <th>MEDIA_5_LP_2017</th>\n",
       "      <th>MEDIA_5_MT_2017</th>\n",
       "      <th>MEDIA_9__2017</th>\n",
       "      <th>MEDIA_9_MT_2017</th>\n",
       "      <th>MEDIA_5_2019</th>\n",
       "      <th>MEDIA_5_MT_2019</th>\n",
       "      <th>MEDIA_9_LP_2019</th>\n",
       "      <th>MEDIA_9_MT_2019</th>\n",
       "    </tr>\n",
       "  </thead>\n",
       "  <tbody>\n",
       "    <tr>\n",
       "      <th>0</th>\n",
       "      <td>11.0</td>\n",
       "      <td>Rondônia</td>\n",
       "      <td>1100015.0</td>\n",
       "      <td>230.95</td>\n",
       "      <td>241.15</td>\n",
       "      <td>260.87</td>\n",
       "      <td>258.55</td>\n",
       "      <td>210.48</td>\n",
       "      <td>233.47</td>\n",
       "      <td>268.37</td>\n",
       "      <td>273.59</td>\n",
       "    </tr>\n",
       "  </tbody>\n",
       "</table>\n",
       "</div>"
      ],
      "text/plain": [
       "   CO_UF     NO_UF  CO_MUNICIPIO  MEDIA_5_LP_2017  MEDIA_5_MT_2017  \\\n",
       "0   11.0  Rondônia     1100015.0           230.95           241.15   \n",
       "\n",
       "   MEDIA_9__2017  MEDIA_9_MT_2017  MEDIA_5_2019  MEDIA_5_MT_2019  \\\n",
       "0         260.87           258.55        210.48           233.47   \n",
       "\n",
       "   MEDIA_9_LP_2019  MEDIA_9_MT_2019  \n",
       "0           268.37           273.59  "
      ]
     },
     "execution_count": 22,
     "metadata": {},
     "output_type": "execute_result"
    }
   ],
   "source": [
    "saeb.head(1)"
   ]
  },
  {
   "cell_type": "code",
   "execution_count": 64,
   "metadata": {},
   "outputs": [],
   "source": [
    "saeb = pd.read_excel(\"saeb_2017_2019.xlsx\")"
   ]
  },
  {
   "cell_type": "code",
   "execution_count": 65,
   "metadata": {
    "scrolled": true
   },
   "outputs": [],
   "source": [
    "saeb = saeb[saeb[\"CO_UF\"] == 23.0]"
   ]
  },
  {
   "cell_type": "code",
   "execution_count": 66,
   "metadata": {},
   "outputs": [
    {
     "data": {
      "text/html": [
       "<div>\n",
       "<style scoped>\n",
       "    .dataframe tbody tr th:only-of-type {\n",
       "        vertical-align: middle;\n",
       "    }\n",
       "\n",
       "    .dataframe tbody tr th {\n",
       "        vertical-align: top;\n",
       "    }\n",
       "\n",
       "    .dataframe thead th {\n",
       "        text-align: right;\n",
       "    }\n",
       "</style>\n",
       "<table border=\"1\" class=\"dataframe\">\n",
       "  <thead>\n",
       "    <tr style=\"text-align: right;\">\n",
       "      <th></th>\n",
       "      <th>CO_UF</th>\n",
       "      <th>Município</th>\n",
       "      <th>NO_UF</th>\n",
       "      <th>CO_MUNICIPIO</th>\n",
       "      <th>MEDIA_5_LP_2017</th>\n",
       "      <th>MEDIA_5_MT_2017</th>\n",
       "      <th>MEDIA_9_LP_2017</th>\n",
       "      <th>MEDIA_9_MT_2017</th>\n",
       "      <th>MEDIA_5_LP_2019</th>\n",
       "      <th>MEDIA_5_MT_2019</th>\n",
       "      <th>MEDIA_9_LP_2019</th>\n",
       "      <th>MEDIA_9_MT_2019</th>\n",
       "    </tr>\n",
       "  </thead>\n",
       "  <tbody>\n",
       "    <tr>\n",
       "      <th>11094</th>\n",
       "      <td>23.0</td>\n",
       "      <td>ABAIARA</td>\n",
       "      <td>Ceará</td>\n",
       "      <td>2300101.0</td>\n",
       "      <td>NaN</td>\n",
       "      <td>NaN</td>\n",
       "      <td>257.93</td>\n",
       "      <td>255.43</td>\n",
       "      <td>194.30</td>\n",
       "      <td>202.41</td>\n",
       "      <td>238.23</td>\n",
       "      <td>239.96</td>\n",
       "    </tr>\n",
       "    <tr>\n",
       "      <th>11095</th>\n",
       "      <td>23.0</td>\n",
       "      <td>ACARAPE</td>\n",
       "      <td>Ceará</td>\n",
       "      <td>2300101.0</td>\n",
       "      <td>NaN</td>\n",
       "      <td>NaN</td>\n",
       "      <td>257.93</td>\n",
       "      <td>255.43</td>\n",
       "      <td>198.91</td>\n",
       "      <td>206.09</td>\n",
       "      <td>248.61</td>\n",
       "      <td>243.94</td>\n",
       "    </tr>\n",
       "  </tbody>\n",
       "</table>\n",
       "</div>"
      ],
      "text/plain": [
       "       CO_UF Município  NO_UF  CO_MUNICIPIO  MEDIA_5_LP_2017  MEDIA_5_MT_2017  \\\n",
       "11094   23.0   ABAIARA  Ceará     2300101.0              NaN              NaN   \n",
       "11095   23.0   ACARAPE  Ceará     2300101.0              NaN              NaN   \n",
       "\n",
       "       MEDIA_9_LP_2017  MEDIA_9_MT_2017  MEDIA_5_LP_2019  MEDIA_5_MT_2019  \\\n",
       "11094           257.93           255.43           194.30           202.41   \n",
       "11095           257.93           255.43           198.91           206.09   \n",
       "\n",
       "       MEDIA_9_LP_2019  MEDIA_9_MT_2019  \n",
       "11094           238.23           239.96  \n",
       "11095           248.61           243.94  "
      ]
     },
     "execution_count": 66,
     "metadata": {},
     "output_type": "execute_result"
    }
   ],
   "source": [
    "saeb.head(2)"
   ]
  },
  {
   "cell_type": "code",
   "execution_count": 67,
   "metadata": {},
   "outputs": [],
   "source": [
    "saeb['Município'] = saeb['Município'].str.title()"
   ]
  },
  {
   "cell_type": "code",
   "execution_count": 78,
   "metadata": {},
   "outputs": [],
   "source": [
    "lista_cactus = []\n",
    "for index, row in saeb.iterrows():\n",
    "    if row['Município'] in cidade_cactus:\n",
    "        lista_cactus.append(\"cidade-cactus\")\n",
    "    else:\n",
    "        lista_cactus.append(\"não cidade-cactus\")\n",
    "        \n",
    "saeb[\"cactus\"] = lista_cactus"
   ]
  },
  {
   "cell_type": "code",
   "execution_count": 79,
   "metadata": {},
   "outputs": [],
   "source": [
    "from siuba import *\n",
    "saeb_tidy_5_lp = (saeb >>\n",
    "    gather(\"year\", \"notas\", \"MEDIA_5_LP_2017\", \"MEDIA_5_LP_2019\"))"
   ]
  },
  {
   "cell_type": "code",
   "execution_count": 80,
   "metadata": {},
   "outputs": [
    {
     "data": {
      "image/png": "[encoded data removed]",
      "text/plain": [
       "<Figure size 432x288 with 1 Axes>"
      ]
     },
     "metadata": {
      "needs_background": "light"
     },
     "output_type": "display_data"
    }
   ],
   "source": [
    "import seaborn as sns\n",
    "(sns.barplot(x = \"year\", y = \"notas\", hue = \"cactus\", data = saeb_tidy_5_lp, errwidth = 0, alpha = 0.5)\n",
    "    .set(xlabel = \"ano\", ylabel = \"notas\", title = \"notas 5 SAEB ano(cidade cactus vs cidade não cactus)\"));\n",
    "\n",
    "# teve um crescimento, porém não parece ter sido tão expressivo com a inserção da cactus"
   ]
  },
  {
   "cell_type": "code",
   "execution_count": 83,
   "metadata": {},
   "outputs": [],
   "source": [
    "from siuba import *\n",
    "saeb_tidy_9 = (saeb >>\n",
    "    gather(\"year\", \"notas\", \"MEDIA_5_MT_2017\", \"MEDIA_5_MT_2019\"))"
   ]
  },
  {
   "cell_type": "code",
   "execution_count": 84,
   "metadata": {},
   "outputs": [
    {
     "data": {
      "image/png": "[encoded data removed]",
      "text/plain": [
       "<Figure size 432x288 with 1 Axes>"
      ]
     },
     "metadata": {
      "needs_background": "light"
     },
     "output_type": "display_data"
    }
   ],
   "source": [
    "import seaborn as sns\n",
    "(sns.barplot(x = \"year\", y = \"notas\", hue = \"cactus\", data = saeb_tidy_9, errwidth = 0, alpha = 0.5)\n",
    "    .set(xlabel = \"ano\", ylabel = \"notas\", title = \"notas 5 SAEB ano(cidade cactus vs cidade não cactus)\"));\n",
    "\n",
    "# teve um crescimento, porém não parece ter sido tão expressivo com a inserção da cactus"
   ]
  },
  {
   "cell_type": "code",
   "execution_count": null,
   "metadata": {},
   "outputs": [],
   "source": []
  }
 ],
 "metadata": {
  "kernelspec": {
   "display_name": "Python 3",
   "language": "python",
   "name": "python3"
  },
  "language_info": {
   "codemirror_mode": {
    "name": "ipython",
    "version": 3
   },
   "file_extension": ".py",
   "mimetype": "text/x-python",
   "name": "python",
   "nbconvert_exporter": "python",
   "pygments_lexer": "ipython3",
   "version": "3.8.4"
  }
 },
 "nbformat": 4,
 "nbformat_minor": 4
}
