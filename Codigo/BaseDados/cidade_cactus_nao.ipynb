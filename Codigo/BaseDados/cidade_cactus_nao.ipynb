{
 "cells": [
  {
   "cell_type": "code",
   "execution_count": 1,
   "metadata": {},
   "outputs": [],
   "source": [
    "import pandas as pd"
   ]
  },
  {
   "cell_type": "code",
   "execution_count": 2,
   "metadata": {},
   "outputs": [],
   "source": [
    "municipio_ibge = pd.read_excel(\"base_dados/COD_UF_IGBE.xlsx\", sheet_name = \"COD_MUNICIPIO\")"
   ]
  },
  {
   "cell_type": "code",
   "execution_count": 3,
   "metadata": {},
   "outputs": [],
   "source": [
    "municipio_ibge = municipio_ibge.rename(columns={\"CO_MUNICIPIO\": \"Código do Município\", \"Município\" : \"Nome do Município\"})"
   ]
  },
  {
   "cell_type": "code",
   "execution_count": 4,
   "metadata": {},
   "outputs": [],
   "source": [
    "municipio_ibge['Nome do Município'] = municipio_ibge['Nome do Município'].str.title()"
   ]
  },
  {
   "cell_type": "code",
   "execution_count": 5,
   "metadata": {},
   "outputs": [
    {
     "data": {
      "text/html": [
       "<div>\n",
       "<style scoped>\n",
       "    .dataframe tbody tr th:only-of-type {\n",
       "        vertical-align: middle;\n",
       "    }\n",
       "\n",
       "    .dataframe tbody tr th {\n",
       "        vertical-align: top;\n",
       "    }\n",
       "\n",
       "    .dataframe thead th {\n",
       "        text-align: right;\n",
       "    }\n",
       "</style>\n",
       "<table border=\"1\" class=\"dataframe\">\n",
       "  <thead>\n",
       "    <tr style=\"text-align: right;\">\n",
       "      <th></th>\n",
       "      <th>Nome do Município</th>\n",
       "      <th>Código do Município</th>\n",
       "    </tr>\n",
       "  </thead>\n",
       "  <tbody>\n",
       "    <tr>\n",
       "      <th>0</th>\n",
       "      <td>Abaiara</td>\n",
       "      <td>2300101</td>\n",
       "    </tr>\n",
       "  </tbody>\n",
       "</table>\n",
       "</div>"
      ],
      "text/plain": [
       "  Nome do Município  Código do Município\n",
       "0           Abaiara              2300101"
      ]
     },
     "execution_count": 5,
     "metadata": {},
     "output_type": "execute_result"
    }
   ],
   "source": [
    "municipio_ibge.head(1)"
   ]
  },
  {
   "cell_type": "code",
   "execution_count": 6,
   "metadata": {},
   "outputs": [
    {
     "data": {
      "text/html": [
       "<div>\n",
       "<style scoped>\n",
       "    .dataframe tbody tr th:only-of-type {\n",
       "        vertical-align: middle;\n",
       "    }\n",
       "\n",
       "    .dataframe tbody tr th {\n",
       "        vertical-align: top;\n",
       "    }\n",
       "\n",
       "    .dataframe thead th {\n",
       "        text-align: right;\n",
       "    }\n",
       "</style>\n",
       "<table border=\"1\" class=\"dataframe\">\n",
       "  <thead>\n",
       "    <tr style=\"text-align: right;\">\n",
       "      <th></th>\n",
       "      <th>Nome do Município</th>\n",
       "      <th>Código do Município</th>\n",
       "    </tr>\n",
       "  </thead>\n",
       "  <tbody>\n",
       "  </tbody>\n",
       "</table>\n",
       "</div>"
      ],
      "text/plain": [
       "Empty DataFrame\n",
       "Columns: [Nome do Município, Código do Município]\n",
       "Index: []"
      ]
     },
     "execution_count": 6,
     "metadata": {},
     "output_type": "execute_result"
    }
   ],
   "source": [
    "municipio_ibge[municipio_ibge['Código do Município'] == 23004266]"
   ]
  },
  {
   "cell_type": "code",
   "execution_count": 7,
   "metadata": {
    "scrolled": true
   },
   "outputs": [],
   "source": [
    "# escolas_2019_5 = pd.read_excel(\"base_dados/SAEB_IDEB_ESCOLAS_5o_2019.xlsx\")\n",
    "# escolas_2019_9 = pd.read_excel(\"base_dados/SAEB_IDEB_ESCOLAS_9o_2019.xlsx\")\n",
    "saeb_ideb_5_9 = pd.read_excel(\"base_dados/SAEB_IDEB_5o_9o.xlsx\")"
   ]
  },
  {
   "cell_type": "code",
   "execution_count": 8,
   "metadata": {},
   "outputs": [],
   "source": [
    "saeb_ideb_5_9 = saeb_ideb_5_9[saeb_ideb_5_9.Rede == \"Municipal\"]\n"
   ]
  },
  {
   "cell_type": "code",
   "execution_count": 9,
   "metadata": {},
   "outputs": [
    {
     "data": {
      "text/html": [
       "<div>\n",
       "<style scoped>\n",
       "    .dataframe tbody tr th:only-of-type {\n",
       "        vertical-align: middle;\n",
       "    }\n",
       "\n",
       "    .dataframe tbody tr th {\n",
       "        vertical-align: top;\n",
       "    }\n",
       "\n",
       "    .dataframe thead th {\n",
       "        text-align: right;\n",
       "    }\n",
       "</style>\n",
       "<table border=\"1\" class=\"dataframe\">\n",
       "  <thead>\n",
       "    <tr style=\"text-align: right;\">\n",
       "      <th></th>\n",
       "      <th>Sigla da UF</th>\n",
       "      <th>Código do Município</th>\n",
       "      <th>Nome do Município</th>\n",
       "      <th>Código da Escola</th>\n",
       "      <th>Nome da Escola</th>\n",
       "      <th>Rede</th>\n",
       "      <th>ano</th>\n",
       "      <th>MT_5o</th>\n",
       "      <th>IDEB_5o</th>\n",
       "      <th>MT_9o</th>\n",
       "      <th>IDEB_9o</th>\n",
       "    </tr>\n",
       "  </thead>\n",
       "  <tbody>\n",
       "  </tbody>\n",
       "</table>\n",
       "</div>"
      ],
      "text/plain": [
       "Empty DataFrame\n",
       "Columns: [Sigla da UF, Código do Município, Nome do Município, Código da Escola, Nome da Escola, Rede, ano, MT_5o, IDEB_5o, MT_9o, IDEB_9o]\n",
       "Index: []"
      ]
     },
     "execution_count": 9,
     "metadata": {},
     "output_type": "execute_result"
    }
   ],
   "source": [
    "saeb_ideb_5_9[saeb_ideb_5_9['Código da Escola'] == 23004266]"
   ]
  },
  {
   "cell_type": "code",
   "execution_count": 10,
   "metadata": {},
   "outputs": [],
   "source": [
    "# final_5 = pd.merge(escolas_2019_5, municipio_ibge, on='Código do Município')\n",
    "# final_9 = pd.merge(escolas_2019_9, municipio_ibge, on='Código do Município')\n",
    "final_5_9 = pd.merge(saeb_ideb_5_9, municipio_ibge, on='Código do Município')"
   ]
  },
  {
   "cell_type": "code",
   "execution_count": 11,
   "metadata": {},
   "outputs": [
    {
     "data": {
      "text/html": [
       "<div>\n",
       "<style scoped>\n",
       "    .dataframe tbody tr th:only-of-type {\n",
       "        vertical-align: middle;\n",
       "    }\n",
       "\n",
       "    .dataframe tbody tr th {\n",
       "        vertical-align: top;\n",
       "    }\n",
       "\n",
       "    .dataframe thead th {\n",
       "        text-align: right;\n",
       "    }\n",
       "</style>\n",
       "<table border=\"1\" class=\"dataframe\">\n",
       "  <thead>\n",
       "    <tr style=\"text-align: right;\">\n",
       "      <th></th>\n",
       "      <th>Sigla da UF</th>\n",
       "      <th>Código do Município</th>\n",
       "      <th>Nome do Município_x</th>\n",
       "      <th>Código da Escola</th>\n",
       "      <th>Nome da Escola</th>\n",
       "      <th>Rede</th>\n",
       "      <th>ano</th>\n",
       "      <th>MT_5o</th>\n",
       "      <th>IDEB_5o</th>\n",
       "      <th>MT_9o</th>\n",
       "      <th>IDEB_9o</th>\n",
       "      <th>Nome do Município_y</th>\n",
       "    </tr>\n",
       "  </thead>\n",
       "  <tbody>\n",
       "    <tr>\n",
       "      <th>0</th>\n",
       "      <td>CE</td>\n",
       "      <td>2300101</td>\n",
       "      <td>Abaiara</td>\n",
       "      <td>23168862</td>\n",
       "      <td>CORONEL HUMBERTO BEZERRA EEIF</td>\n",
       "      <td>Municipal</td>\n",
       "      <td>2005</td>\n",
       "      <td>163.95</td>\n",
       "      <td>3.2</td>\n",
       "      <td>NaN</td>\n",
       "      <td>NaN</td>\n",
       "      <td>Abaiara</td>\n",
       "    </tr>\n",
       "  </tbody>\n",
       "</table>\n",
       "</div>"
      ],
      "text/plain": [
       "  Sigla da UF  Código do Município Nome do Município_x  Código da Escola  \\\n",
       "0          CE              2300101             Abaiara          23168862   \n",
       "\n",
       "                  Nome da Escola       Rede   ano   MT_5o  IDEB_5o  MT_9o  \\\n",
       "0  CORONEL HUMBERTO BEZERRA EEIF  Municipal  2005  163.95      3.2    NaN   \n",
       "\n",
       "   IDEB_9o Nome do Município_y  \n",
       "0      NaN             Abaiara  "
      ]
     },
     "execution_count": 11,
     "metadata": {},
     "output_type": "execute_result"
    }
   ],
   "source": [
    "final_5_9.head(1)"
   ]
  },
  {
   "cell_type": "code",
   "execution_count": 12,
   "metadata": {},
   "outputs": [],
   "source": [
    "# final_5_9 = final_5_9.drop(columns=['Nome do Município_y'])\n",
    "# final_5_9 = final_5_9.rename(columns={\"Nome do Município_x\": \"Nome do Município\"})"
   ]
  },
  {
   "cell_type": "code",
   "execution_count": 13,
   "metadata": {},
   "outputs": [],
   "source": [
    "# final_5 = final_5.drop(columns=['Nome do Município_y'])\n",
    "# final_5 = final_5.rename(columns={\"Nome do Município_x\": \"Nome do Município\"})"
   ]
  },
  {
   "cell_type": "code",
   "execution_count": 14,
   "metadata": {},
   "outputs": [],
   "source": [
    "# final_9 = final_9.drop(columns=['Nome do Município_y'])\n",
    "# final_9 = final_9.rename(columns={\"Nome do Município_x\": \"Nome do Município\"})"
   ]
  },
  {
   "cell_type": "code",
   "execution_count": 15,
   "metadata": {},
   "outputs": [],
   "source": [
    "# final_5['Nome da Escola'] = final_5['Nome da Escola'].str.title()\n",
    "# final_9['Nome da Escola'] = final_9['Nome da Escola'].str.title\n",
    "final_5_9['Nome da Escola'] = final_5_9['Nome da Escola'].str.title()"
   ]
  },
  {
   "cell_type": "code",
   "execution_count": 16,
   "metadata": {
    "scrolled": true
   },
   "outputs": [
    {
     "data": {
      "text/html": [
       "<div>\n",
       "<style scoped>\n",
       "    .dataframe tbody tr th:only-of-type {\n",
       "        vertical-align: middle;\n",
       "    }\n",
       "\n",
       "    .dataframe tbody tr th {\n",
       "        vertical-align: top;\n",
       "    }\n",
       "\n",
       "    .dataframe thead th {\n",
       "        text-align: right;\n",
       "    }\n",
       "</style>\n",
       "<table border=\"1\" class=\"dataframe\">\n",
       "  <thead>\n",
       "    <tr style=\"text-align: right;\">\n",
       "      <th></th>\n",
       "      <th>Sigla da UF</th>\n",
       "      <th>Código do Município</th>\n",
       "      <th>Nome do Município_x</th>\n",
       "      <th>Código da Escola</th>\n",
       "      <th>Nome da Escola</th>\n",
       "      <th>Rede</th>\n",
       "      <th>ano</th>\n",
       "      <th>MT_5o</th>\n",
       "      <th>IDEB_5o</th>\n",
       "      <th>MT_9o</th>\n",
       "      <th>IDEB_9o</th>\n",
       "      <th>Nome do Município_y</th>\n",
       "    </tr>\n",
       "  </thead>\n",
       "  <tbody>\n",
       "  </tbody>\n",
       "</table>\n",
       "</div>"
      ],
      "text/plain": [
       "Empty DataFrame\n",
       "Columns: [Sigla da UF, Código do Município, Nome do Município_x, Código da Escola, Nome da Escola, Rede, ano, MT_5o, IDEB_5o, MT_9o, IDEB_9o, Nome do Município_y]\n",
       "Index: []"
      ]
     },
     "execution_count": 16,
     "metadata": {},
     "output_type": "execute_result"
    }
   ],
   "source": [
    "final_5_9[final_5_9[\"Nome da Escola\"] == \"Eef Francisco das Chagas e Silveira\"]"
   ]
  },
  {
   "cell_type": "code",
   "execution_count": 17,
   "metadata": {},
   "outputs": [
    {
     "data": {
      "text/html": [
       "<div>\n",
       "<style scoped>\n",
       "    .dataframe tbody tr th:only-of-type {\n",
       "        vertical-align: middle;\n",
       "    }\n",
       "\n",
       "    .dataframe tbody tr th {\n",
       "        vertical-align: top;\n",
       "    }\n",
       "\n",
       "    .dataframe thead th {\n",
       "        text-align: right;\n",
       "    }\n",
       "</style>\n",
       "<table border=\"1\" class=\"dataframe\">\n",
       "  <thead>\n",
       "    <tr style=\"text-align: right;\">\n",
       "      <th></th>\n",
       "      <th>Sigla da UF</th>\n",
       "      <th>Código do Município</th>\n",
       "      <th>Nome do Município_x</th>\n",
       "      <th>Código da Escola</th>\n",
       "      <th>Nome da Escola</th>\n",
       "      <th>Rede</th>\n",
       "      <th>ano</th>\n",
       "      <th>MT_5o</th>\n",
       "      <th>IDEB_5o</th>\n",
       "      <th>MT_9o</th>\n",
       "      <th>IDEB_9o</th>\n",
       "      <th>Nome do Município_y</th>\n",
       "    </tr>\n",
       "  </thead>\n",
       "  <tbody>\n",
       "  </tbody>\n",
       "</table>\n",
       "</div>"
      ],
      "text/plain": [
       "Empty DataFrame\n",
       "Columns: [Sigla da UF, Código do Município, Nome do Município_x, Código da Escola, Nome da Escola, Rede, ano, MT_5o, IDEB_5o, MT_9o, IDEB_9o, Nome do Município_y]\n",
       "Index: []"
      ]
     },
     "execution_count": 17,
     "metadata": {},
     "output_type": "execute_result"
    }
   ],
   "source": [
    "final_5_9[final_5_9[\"Código da Escola\"] == 23004266]"
   ]
  },
  {
   "cell_type": "code",
   "execution_count": 18,
   "metadata": {},
   "outputs": [],
   "source": [
    "cactus20 = pd.read_excel(\"base_dados/Cactus _ InsperData.xlsx\", sheet_name = \"Escolas 2020\")\n",
    "cactus19 = pd.read_excel(\"base_dados/Cactus _ InsperData.xlsx\", sheet_name = \"Escolas 2019\")"
   ]
  },
  {
   "cell_type": "code",
   "execution_count": 28,
   "metadata": {},
   "outputs": [],
   "source": [
    "cactus20_2 = pd.read_excel(\"base_dados/Escolas - Expansão 2020.2.xlsx\")"
   ]
  },
  {
   "cell_type": "code",
   "execution_count": 36,
   "metadata": {},
   "outputs": [],
   "source": [
    "cactus_20 = cactus20[(cactus20.Inep >= 23000000) & (cactus20.Inep < 24000000)]\n",
    "cactus_20 = cactus20.drop(columns = [\"Estado\"])"
   ]
  },
  {
   "cell_type": "code",
   "execution_count": 39,
   "metadata": {},
   "outputs": [],
   "source": [
    "cactus20_f = pd.concat([cactus20_2, cactus_20], ignore_index=True, copy = False)"
   ]
  },
  {
   "cell_type": "code",
   "execution_count": 40,
   "metadata": {},
   "outputs": [
    {
     "data": {
      "text/html": [
       "<div>\n",
       "<style scoped>\n",
       "    .dataframe tbody tr th:only-of-type {\n",
       "        vertical-align: middle;\n",
       "    }\n",
       "\n",
       "    .dataframe tbody tr th {\n",
       "        vertical-align: top;\n",
       "    }\n",
       "\n",
       "    .dataframe thead th {\n",
       "        text-align: right;\n",
       "    }\n",
       "</style>\n",
       "<table border=\"1\" class=\"dataframe\">\n",
       "  <thead>\n",
       "    <tr style=\"text-align: right;\">\n",
       "      <th></th>\n",
       "      <th>Municipio</th>\n",
       "      <th>Escola</th>\n",
       "      <th>Inep</th>\n",
       "    </tr>\n",
       "  </thead>\n",
       "  <tbody>\n",
       "    <tr>\n",
       "      <th>0</th>\n",
       "      <td>Beberibe</td>\n",
       "      <td>Centro de Ed. Municipal Betesda de E. Fundamental</td>\n",
       "      <td>23059273.0</td>\n",
       "    </tr>\n",
       "    <tr>\n",
       "      <th>1</th>\n",
       "      <td>Beberibe</td>\n",
       "      <td>E.M.E.F. ISABEL PINHEIRO DE LIMA</td>\n",
       "      <td>23059133.0</td>\n",
       "    </tr>\n",
       "    <tr>\n",
       "      <th>2</th>\n",
       "      <td>Beberibe</td>\n",
       "      <td>EMEF BENEDITO EVARISTO PINHEIRO</td>\n",
       "      <td>23059265.0</td>\n",
       "    </tr>\n",
       "    <tr>\n",
       "      <th>3</th>\n",
       "      <td>Beberibe</td>\n",
       "      <td>EMEF Bom Jesus dos Navegantes</td>\n",
       "      <td>23059079.0</td>\n",
       "    </tr>\n",
       "    <tr>\n",
       "      <th>4</th>\n",
       "      <td>Beberibe</td>\n",
       "      <td>EMEF GERMANO JOSÉ DO NASCIMENTO</td>\n",
       "      <td>23058579.0</td>\n",
       "    </tr>\n",
       "    <tr>\n",
       "      <th>...</th>\n",
       "      <td>...</td>\n",
       "      <td>...</td>\n",
       "      <td>...</td>\n",
       "    </tr>\n",
       "    <tr>\n",
       "      <th>161</th>\n",
       "      <td>Panelas</td>\n",
       "      <td>EM Jose Felizardo</td>\n",
       "      <td>26086034.0</td>\n",
       "    </tr>\n",
       "    <tr>\n",
       "      <th>162</th>\n",
       "      <td>Panelas</td>\n",
       "      <td>EM Rui Barbosa</td>\n",
       "      <td>26085925.0</td>\n",
       "    </tr>\n",
       "    <tr>\n",
       "      <th>163</th>\n",
       "      <td>São Paulo</td>\n",
       "      <td>Carlos Maximiliano Pereira Dos Santos</td>\n",
       "      <td>35003840.0</td>\n",
       "    </tr>\n",
       "    <tr>\n",
       "      <th>164</th>\n",
       "      <td>São Paulo</td>\n",
       "      <td>Kyrillos Doutor</td>\n",
       "      <td>35003967.0</td>\n",
       "    </tr>\n",
       "    <tr>\n",
       "      <th>165</th>\n",
       "      <td>São Paulo</td>\n",
       "      <td>Reinaldo Ribeiro Da Silva Doutor</td>\n",
       "      <td>35003463.0</td>\n",
       "    </tr>\n",
       "  </tbody>\n",
       "</table>\n",
       "<p>166 rows × 3 columns</p>\n",
       "</div>"
      ],
      "text/plain": [
       "     Municipio                                             Escola        Inep\n",
       "0     Beberibe  Centro de Ed. Municipal Betesda de E. Fundamental  23059273.0\n",
       "1     Beberibe                   E.M.E.F. ISABEL PINHEIRO DE LIMA  23059133.0\n",
       "2     Beberibe                    EMEF BENEDITO EVARISTO PINHEIRO  23059265.0\n",
       "3     Beberibe                      EMEF Bom Jesus dos Navegantes  23059079.0\n",
       "4     Beberibe                    EMEF GERMANO JOSÉ DO NASCIMENTO  23058579.0\n",
       "..         ...                                                ...         ...\n",
       "161    Panelas                                  EM Jose Felizardo  26086034.0\n",
       "162    Panelas                                     EM Rui Barbosa  26085925.0\n",
       "163  São Paulo              Carlos Maximiliano Pereira Dos Santos  35003840.0\n",
       "164  São Paulo                                    Kyrillos Doutor  35003967.0\n",
       "165  São Paulo                   Reinaldo Ribeiro Da Silva Doutor  35003463.0\n",
       "\n",
       "[166 rows x 3 columns]"
      ]
     },
     "execution_count": 40,
     "metadata": {},
     "output_type": "execute_result"
    }
   ],
   "source": [
    "cactus20_f"
   ]
  },
  {
   "cell_type": "code",
   "execution_count": 54,
   "metadata": {},
   "outputs": [],
   "source": [
    "cactus20_f.to_csv(\"base_dados/escolas_cactus_20_completo.csv\")"
   ]
  },
  {
   "cell_type": "code",
   "execution_count": 55,
   "metadata": {},
   "outputs": [
    {
     "data": {
      "text/html": [
       "<div>\n",
       "<style scoped>\n",
       "    .dataframe tbody tr th:only-of-type {\n",
       "        vertical-align: middle;\n",
       "    }\n",
       "\n",
       "    .dataframe tbody tr th {\n",
       "        vertical-align: top;\n",
       "    }\n",
       "\n",
       "    .dataframe thead th {\n",
       "        text-align: right;\n",
       "    }\n",
       "</style>\n",
       "<table border=\"1\" class=\"dataframe\">\n",
       "  <thead>\n",
       "    <tr style=\"text-align: right;\">\n",
       "      <th></th>\n",
       "      <th>Municipio</th>\n",
       "      <th>Escola</th>\n",
       "      <th>Inep</th>\n",
       "    </tr>\n",
       "  </thead>\n",
       "  <tbody>\n",
       "    <tr>\n",
       "      <th>0</th>\n",
       "      <td>Beberibe</td>\n",
       "      <td>Centro de Ed. Municipal Betesda de E. Fundamental</td>\n",
       "      <td>23059273.0</td>\n",
       "    </tr>\n",
       "    <tr>\n",
       "      <th>1</th>\n",
       "      <td>Beberibe</td>\n",
       "      <td>E.M.E.F. ISABEL PINHEIRO DE LIMA</td>\n",
       "      <td>23059133.0</td>\n",
       "    </tr>\n",
       "  </tbody>\n",
       "</table>\n",
       "</div>"
      ],
      "text/plain": [
       "  Municipio                                             Escola        Inep\n",
       "0  Beberibe  Centro de Ed. Municipal Betesda de E. Fundamental  23059273.0\n",
       "1  Beberibe                   E.M.E.F. ISABEL PINHEIRO DE LIMA  23059133.0"
      ]
     },
     "execution_count": 55,
     "metadata": {},
     "output_type": "execute_result"
    }
   ],
   "source": [
    "cactus20_f.head(2)"
   ]
  },
  {
   "cell_type": "code",
   "execution_count": 56,
   "metadata": {},
   "outputs": [
    {
     "data": {
      "text/html": [
       "<div>\n",
       "<style scoped>\n",
       "    .dataframe tbody tr th:only-of-type {\n",
       "        vertical-align: middle;\n",
       "    }\n",
       "\n",
       "    .dataframe tbody tr th {\n",
       "        vertical-align: top;\n",
       "    }\n",
       "\n",
       "    .dataframe thead th {\n",
       "        text-align: right;\n",
       "    }\n",
       "</style>\n",
       "<table border=\"1\" class=\"dataframe\">\n",
       "  <thead>\n",
       "    <tr style=\"text-align: right;\">\n",
       "      <th></th>\n",
       "      <th>Municipio</th>\n",
       "      <th>Escola</th>\n",
       "      <th>Inep</th>\n",
       "    </tr>\n",
       "  </thead>\n",
       "  <tbody>\n",
       "    <tr>\n",
       "      <th>61</th>\n",
       "      <td>Acaraú</td>\n",
       "      <td>Dona Eulina Magalhães</td>\n",
       "      <td>23000791.0</td>\n",
       "    </tr>\n",
       "  </tbody>\n",
       "</table>\n",
       "</div>"
      ],
      "text/plain": [
       "   Municipio                 Escola        Inep\n",
       "61    Acaraú  Dona Eulina Magalhães  23000791.0"
      ]
     },
     "execution_count": 56,
     "metadata": {},
     "output_type": "execute_result"
    }
   ],
   "source": [
    "cactus20_f[cactus20_f[\"Inep\"] == 23000791]"
   ]
  },
  {
   "cell_type": "code",
   "execution_count": 57,
   "metadata": {},
   "outputs": [
    {
     "name": "stdout",
     "output_type": "stream",
     "text": [
      "  Municipio                                             Escola        Inep\n",
      "0  Beberibe  Centro de Ed. Municipal Betesda de E. Fundamental  23059273.0\n",
      "1  Beberibe                   E.M.E.F. ISABEL PINHEIRO DE LIMA  23059133.0\n",
      "--------------------------------------------------\n",
      "  Estado Municipio                  Escola  Código INEP\n",
      "0  Ceará    Acaraú   Dona Eulina Magalhães   23000791.0\n",
      "1  Ceará    Acaraú  Deputado José Filomeno   23000520.0\n"
     ]
    }
   ],
   "source": [
    "print(cactus20_f.head(2))\n",
    "print(\"--------------------------------------------------\")\n",
    "print(cactus19.head(2))"
   ]
  },
  {
   "cell_type": "code",
   "execution_count": 58,
   "metadata": {},
   "outputs": [],
   "source": [
    "cactus20_municipio = list(cactus20_f.Municipio)\n",
    "cactus20_inep = list(cactus20_f.Inep)\n",
    "cactus19_inep = list(cactus19[\"Código INEP\"])"
   ]
  },
  {
   "cell_type": "code",
   "execution_count": 59,
   "metadata": {},
   "outputs": [],
   "source": [
    "lista_cactus_19_20_5_9 = []\n",
    "for index, row in final_5_9.iterrows():\n",
    "    if row['Código da Escola'] in cactus19_inep:\n",
    "        lista_cactus_19_20_5_9.append(\"cactus19\")\n",
    "    else:\n",
    "        lista_cactus_19_20_5_9.append(\"não cactus\")\n",
    "        \n",
    "final_5_9[\"cactus\"] = lista_cactus_19_20_5_9"
   ]
  },
  {
   "cell_type": "code",
   "execution_count": 60,
   "metadata": {},
   "outputs": [
    {
     "data": {
      "text/plain": [
       "não cactus    26624\n",
       "cactus19        368\n",
       "Name: cactus, dtype: int64"
      ]
     },
     "execution_count": 60,
     "metadata": {},
     "output_type": "execute_result"
    }
   ],
   "source": [
    "final_5_9[\"cactus\"].value_counts()"
   ]
  },
  {
   "cell_type": "code",
   "execution_count": 61,
   "metadata": {},
   "outputs": [],
   "source": [
    "# lista_cactus_19_20_5 = []\n",
    "# for index, row in final_5.iterrows():\n",
    "#     if row['Código da Escola'] in cactus19_inep:\n",
    "#         lista_cactus_19_20_5.append(\"cactus19_5\")\n",
    "#         if row['Código da Escola'] ==  23000708:\n",
    "#             print(\"oi\")\n",
    "#     elif row['Código da Escola'] in cactus20_inep:\n",
    "#         lista_cactus_19_20_5.append(\"cactus20_5\")\n",
    "    \n",
    "#     else:\n",
    "#         lista_cactus_19_20_5.append(\"não cactus20_5\")\n",
    "        \n",
    "# final_5[\"cactus\"] = lista_cactus_19_20_5"
   ]
  },
  {
   "cell_type": "code",
   "execution_count": 62,
   "metadata": {},
   "outputs": [],
   "source": [
    "# lista_cactus_19_20_9 = []\n",
    "# for index, row in final_9.iterrows():\n",
    "#     if row['Código da Escola'] in cactus19_inep:\n",
    "#         lista_cactus_19_20_9.append(\"cactus19_9\")\n",
    "#     elif row['Código da Escola'] in cactus20_inep:\n",
    "#         lista_cactus_19_20_9.append(\"cactus20_9\")\n",
    "#     else:\n",
    "#         lista_cactus_19_20_9.append(\"não cactus20_9\")\n",
    "        \n",
    "# final_9[\"cactus\"] = lista_cactus_19_20_9"
   ]
  },
  {
   "cell_type": "code",
   "execution_count": 63,
   "metadata": {},
   "outputs": [
    {
     "name": "stdout",
     "output_type": "stream",
     "text": [
      "-------------------------\n",
      "não cactus    26624\n",
      "cactus19        368\n",
      "Name: cactus, dtype: int64\n"
     ]
    }
   ],
   "source": [
    "# print(final_5[\"cactus\"].value_counts())\n",
    "# print(\"-------------------------\")\n",
    "# print(final_9[\"cactus\"].value_counts())\n",
    "print(\"-------------------------\")\n",
    "print(final_5_9[\"cactus\"].value_counts())"
   ]
  },
  {
   "cell_type": "code",
   "execution_count": 64,
   "metadata": {},
   "outputs": [
    {
     "data": {
      "text/html": [
       "<div>\n",
       "<style scoped>\n",
       "    .dataframe tbody tr th:only-of-type {\n",
       "        vertical-align: middle;\n",
       "    }\n",
       "\n",
       "    .dataframe tbody tr th {\n",
       "        vertical-align: top;\n",
       "    }\n",
       "\n",
       "    .dataframe thead th {\n",
       "        text-align: right;\n",
       "    }\n",
       "</style>\n",
       "<table border=\"1\" class=\"dataframe\">\n",
       "  <thead>\n",
       "    <tr style=\"text-align: right;\">\n",
       "      <th></th>\n",
       "      <th>Sigla da UF</th>\n",
       "      <th>Código do Município</th>\n",
       "      <th>Nome do Município_x</th>\n",
       "      <th>Código da Escola</th>\n",
       "      <th>Nome da Escola</th>\n",
       "      <th>Rede</th>\n",
       "      <th>ano</th>\n",
       "      <th>MT_5o</th>\n",
       "      <th>IDEB_5o</th>\n",
       "      <th>MT_9o</th>\n",
       "      <th>IDEB_9o</th>\n",
       "      <th>Nome do Município_y</th>\n",
       "      <th>cactus</th>\n",
       "    </tr>\n",
       "  </thead>\n",
       "  <tbody>\n",
       "    <tr>\n",
       "      <th>104</th>\n",
       "      <td>CE</td>\n",
       "      <td>2300200</td>\n",
       "      <td>Acaraú</td>\n",
       "      <td>23000074</td>\n",
       "      <td>Anselmo Jose Da Silveira Eeief</td>\n",
       "      <td>Municipal</td>\n",
       "      <td>2005</td>\n",
       "      <td>NaN</td>\n",
       "      <td>NaN</td>\n",
       "      <td>NaN</td>\n",
       "      <td>NaN</td>\n",
       "      <td>Acaraú</td>\n",
       "      <td>não cactus</td>\n",
       "    </tr>\n",
       "    <tr>\n",
       "      <th>105</th>\n",
       "      <td>CE</td>\n",
       "      <td>2300200</td>\n",
       "      <td>Acaraú</td>\n",
       "      <td>23000074</td>\n",
       "      <td>Anselmo Jose Da Silveira Eeief</td>\n",
       "      <td>Municipal</td>\n",
       "      <td>2007</td>\n",
       "      <td>NaN</td>\n",
       "      <td>NaN</td>\n",
       "      <td>NaN</td>\n",
       "      <td>NaN</td>\n",
       "      <td>Acaraú</td>\n",
       "      <td>não cactus</td>\n",
       "    </tr>\n",
       "    <tr>\n",
       "      <th>106</th>\n",
       "      <td>CE</td>\n",
       "      <td>2300200</td>\n",
       "      <td>Acaraú</td>\n",
       "      <td>23000074</td>\n",
       "      <td>Anselmo Jose Da Silveira Eeief</td>\n",
       "      <td>Municipal</td>\n",
       "      <td>2009</td>\n",
       "      <td>189.12</td>\n",
       "      <td>4.5</td>\n",
       "      <td>NaN</td>\n",
       "      <td>NaN</td>\n",
       "      <td>Acaraú</td>\n",
       "      <td>não cactus</td>\n",
       "    </tr>\n",
       "    <tr>\n",
       "      <th>107</th>\n",
       "      <td>CE</td>\n",
       "      <td>2300200</td>\n",
       "      <td>Acaraú</td>\n",
       "      <td>23000074</td>\n",
       "      <td>Anselmo Jose Da Silveira Eeief</td>\n",
       "      <td>Municipal</td>\n",
       "      <td>2011</td>\n",
       "      <td>NaN</td>\n",
       "      <td>NaN</td>\n",
       "      <td>NaN</td>\n",
       "      <td>NaN</td>\n",
       "      <td>Acaraú</td>\n",
       "      <td>não cactus</td>\n",
       "    </tr>\n",
       "    <tr>\n",
       "      <th>108</th>\n",
       "      <td>CE</td>\n",
       "      <td>2300200</td>\n",
       "      <td>Acaraú</td>\n",
       "      <td>23000074</td>\n",
       "      <td>Anselmo Jose Da Silveira Eeief</td>\n",
       "      <td>Municipal</td>\n",
       "      <td>2013</td>\n",
       "      <td>NaN</td>\n",
       "      <td>NaN</td>\n",
       "      <td>NaN</td>\n",
       "      <td>NaN</td>\n",
       "      <td>Acaraú</td>\n",
       "      <td>não cactus</td>\n",
       "    </tr>\n",
       "    <tr>\n",
       "      <th>109</th>\n",
       "      <td>CE</td>\n",
       "      <td>2300200</td>\n",
       "      <td>Acaraú</td>\n",
       "      <td>23000074</td>\n",
       "      <td>Anselmo Jose Da Silveira Eeief</td>\n",
       "      <td>Municipal</td>\n",
       "      <td>2015</td>\n",
       "      <td>239.94</td>\n",
       "      <td>6.4</td>\n",
       "      <td>NaN</td>\n",
       "      <td>NaN</td>\n",
       "      <td>Acaraú</td>\n",
       "      <td>não cactus</td>\n",
       "    </tr>\n",
       "    <tr>\n",
       "      <th>110</th>\n",
       "      <td>CE</td>\n",
       "      <td>2300200</td>\n",
       "      <td>Acaraú</td>\n",
       "      <td>23000074</td>\n",
       "      <td>Anselmo Jose Da Silveira Eeief</td>\n",
       "      <td>Municipal</td>\n",
       "      <td>2017</td>\n",
       "      <td>255.50</td>\n",
       "      <td>7.1</td>\n",
       "      <td>NaN</td>\n",
       "      <td>NaN</td>\n",
       "      <td>Acaraú</td>\n",
       "      <td>não cactus</td>\n",
       "    </tr>\n",
       "    <tr>\n",
       "      <th>111</th>\n",
       "      <td>CE</td>\n",
       "      <td>2300200</td>\n",
       "      <td>Acaraú</td>\n",
       "      <td>23000074</td>\n",
       "      <td>Anselmo Jose Da Silveira Eeief</td>\n",
       "      <td>Municipal</td>\n",
       "      <td>2019</td>\n",
       "      <td>273.86</td>\n",
       "      <td>7.8</td>\n",
       "      <td>NaN</td>\n",
       "      <td>NaN</td>\n",
       "      <td>Acaraú</td>\n",
       "      <td>não cactus</td>\n",
       "    </tr>\n",
       "  </tbody>\n",
       "</table>\n",
       "</div>"
      ],
      "text/plain": [
       "    Sigla da UF  Código do Município Nome do Município_x  Código da Escola  \\\n",
       "104          CE              2300200              Acaraú          23000074   \n",
       "105          CE              2300200              Acaraú          23000074   \n",
       "106          CE              2300200              Acaraú          23000074   \n",
       "107          CE              2300200              Acaraú          23000074   \n",
       "108          CE              2300200              Acaraú          23000074   \n",
       "109          CE              2300200              Acaraú          23000074   \n",
       "110          CE              2300200              Acaraú          23000074   \n",
       "111          CE              2300200              Acaraú          23000074   \n",
       "\n",
       "                     Nome da Escola       Rede   ano   MT_5o  IDEB_5o  MT_9o  \\\n",
       "104  Anselmo Jose Da Silveira Eeief  Municipal  2005     NaN      NaN    NaN   \n",
       "105  Anselmo Jose Da Silveira Eeief  Municipal  2007     NaN      NaN    NaN   \n",
       "106  Anselmo Jose Da Silveira Eeief  Municipal  2009  189.12      4.5    NaN   \n",
       "107  Anselmo Jose Da Silveira Eeief  Municipal  2011     NaN      NaN    NaN   \n",
       "108  Anselmo Jose Da Silveira Eeief  Municipal  2013     NaN      NaN    NaN   \n",
       "109  Anselmo Jose Da Silveira Eeief  Municipal  2015  239.94      6.4    NaN   \n",
       "110  Anselmo Jose Da Silveira Eeief  Municipal  2017  255.50      7.1    NaN   \n",
       "111  Anselmo Jose Da Silveira Eeief  Municipal  2019  273.86      7.8    NaN   \n",
       "\n",
       "     IDEB_9o Nome do Município_y      cactus  \n",
       "104      NaN              Acaraú  não cactus  \n",
       "105      NaN              Acaraú  não cactus  \n",
       "106      NaN              Acaraú  não cactus  \n",
       "107      NaN              Acaraú  não cactus  \n",
       "108      NaN              Acaraú  não cactus  \n",
       "109      NaN              Acaraú  não cactus  \n",
       "110      NaN              Acaraú  não cactus  \n",
       "111      NaN              Acaraú  não cactus  "
      ]
     },
     "execution_count": 64,
     "metadata": {},
     "output_type": "execute_result"
    }
   ],
   "source": [
    "final_5_9[final_5_9[\"Código da Escola\"] == 23000074]"
   ]
  },
  {
   "cell_type": "code",
   "execution_count": 65,
   "metadata": {},
   "outputs": [],
   "source": [
    "cactus20_final = final_5_9[final_5_9.cactus == 'cactus20_5_9']"
   ]
  },
  {
   "cell_type": "code",
   "execution_count": 66,
   "metadata": {},
   "outputs": [
    {
     "data": {
      "text/plain": [
       "Series([], Name: Código da Escola, dtype: int64)"
      ]
     },
     "execution_count": 66,
     "metadata": {},
     "output_type": "execute_result"
    }
   ],
   "source": [
    "cactus20_final[\"Código da Escola\"].value_counts()"
   ]
  },
  {
   "cell_type": "code",
   "execution_count": 73,
   "metadata": {},
   "outputs": [],
   "source": [
    "# final_5.to_csv(\"base_dados/SAEB_IDEB_ESCOLAS_5o_2019_cactus.csv\")\n",
    "# final_9.to_csv(\"base_dados/SAEB_IDEB_ESCOLAS_9o_2019_cactus.csv\")\n",
    "final_5_9.to_csv(\"base_dados/SAEB_IDEB_ESCOLAS_5o_9o_2019_cactus.csv\")"
   ]
  },
  {
   "cell_type": "code",
   "execution_count": null,
   "metadata": {},
   "outputs": [],
   "source": [
    "\n"
   ]
  },
  {
   "cell_type": "code",
   "execution_count": 74,
   "metadata": {},
   "outputs": [],
   "source": [
    "from siuba import *\n",
    "%matplotlib inline\n",
    "import matplotlib.pyplot as plt\n",
    "from plotnine import *\n",
    "import numpy as np\n",
    "import seaborn as sns\n",
    "import plotly.express as px\n",
    "plt.style.use('fivethirtyeight')\n",
    "from scipy.stats import iqr"
   ]
  },
  {
   "cell_type": "code",
   "execution_count": 75,
   "metadata": {},
   "outputs": [
    {
     "data": {
      "text/plain": [
       "<matplotlib.legend.Legend at 0x2043a80b610>"
      ]
     },
     "execution_count": 75,
     "metadata": {},
     "output_type": "execute_result"
    },
    {
     "data": {
      "image/png": "[encoded data removed]",
      "text/plain": [
       "<Figure size 432x288 with 1 Axes>"
      ]
     },
     "metadata": {},
     "output_type": "display_data"
    }
   ],
   "source": [
    "import seaborn as sns\n",
    "(sns.barplot(x = \"ano\", y = \"MT_5o\", hue = \"cactus\", data = final_5_9, errwidth = 0, alpha = 0.5)\n",
    "    .set(xlabel = \"ano\", ylabel = \"notas\", title = \"Nota de Matemática 5 ano\"));\n",
    "plt.legend(bbox_to_anchor=(1.01, 1),borderaxespad=0)\n",
    "# teve um crescimento, porém não parece ter sido tão expressivo com a inserção da cactus"
   ]
  },
  {
   "cell_type": "code",
   "execution_count": 70,
   "metadata": {},
   "outputs": [
    {
     "data": {
      "text/plain": [
       "<matplotlib.legend.Legend at 0x20422c69220>"
      ]
     },
     "execution_count": 70,
     "metadata": {},
     "output_type": "execute_result"
    },
    {
     "data": {
      "image/png": "[encoded data removed]",
      "text/plain": [
       "<Figure size 432x288 with 1 Axes>"
      ]
     },
     "metadata": {},
     "output_type": "display_data"
    }
   ],
   "source": [
    "import seaborn as sns\n",
    "(sns.barplot(x = \"ano\", y = \"MT_9o\", hue = \"cactus\", data = final_5_9, errwidth = 0, alpha = 0.5)\n",
    "    .set(xlabel = \"ano\", ylabel = \"notas\", title = \"Nota de Matemática 9 ano\"));\n",
    "plt.legend(bbox_to_anchor=(1.01, 1),borderaxespad=0)\n",
    "# teve um crescimento, porém não parece ter sido tão expressivo com a inserção da cactus"
   ]
  },
  {
   "cell_type": "code",
   "execution_count": 71,
   "metadata": {
    "scrolled": true
   },
   "outputs": [
    {
     "data": {
      "text/plain": [
       "<matplotlib.legend.Legend at 0x20422c51df0>"
      ]
     },
     "execution_count": 71,
     "metadata": {},
     "output_type": "execute_result"
    },
    {
     "data": {
      "image/png": "[encoded data removed]",
      "text/plain": [
       "<Figure size 432x288 with 1 Axes>"
      ]
     },
     "metadata": {},
     "output_type": "display_data"
    }
   ],
   "source": [
    "import seaborn as sns\n",
    "(sns.barplot(x = \"ano\", y = \"IDEB_9o\", hue = \"cactus\", data = final_5_9, errwidth = 0, alpha = 0.5)\n",
    "    .set(xlabel = \"ano\", ylabel = \"notas\", title = \"Nota IDEB 9 ano\"));\n",
    "plt.legend(bbox_to_anchor=(1.01, 1),borderaxespad=0)\n",
    "# teve um crescimento, porém não parece ter sido tão expressivo com a inserção da cactus"
   ]
  },
  {
   "cell_type": "code",
   "execution_count": 72,
   "metadata": {},
   "outputs": [
    {
     "data": {
      "text/plain": [
       "<matplotlib.legend.Legend at 0x2043a74e7c0>"
      ]
     },
     "execution_count": 72,
     "metadata": {},
     "output_type": "execute_result"
    },
    {
     "data": {
      "image/png": "[encoded data removed]",
      "text/plain": [
       "<Figure size 432x288 with 1 Axes>"
      ]
     },
     "metadata": {},
     "output_type": "display_data"
    }
   ],
   "source": [
    "import seaborn as sns\n",
    "(sns.barplot(x = \"ano\", y = \"IDEB_5o\", hue = \"cactus\", data = final_5_9, errwidth = 0, alpha = 0.5)\n",
    "    .set(xlabel = \"ano\", ylabel = \"notas\", title = \"Nota IDEB 5 ano\"));\n",
    "plt.legend(bbox_to_anchor=(1.01, 1),borderaxespad=0)\n",
    "# teve um crescimento, porém não parece ter sido tão expressivo com a inserção da cactus"
   ]
  },
  {
   "cell_type": "code",
   "execution_count": 37,
   "metadata": {},
   "outputs": [
    {
     "data": {
      "text/html": [
       "<div>\n",
       "<style scoped>\n",
       "    .dataframe tbody tr th:only-of-type {\n",
       "        vertical-align: middle;\n",
       "    }\n",
       "\n",
       "    .dataframe tbody tr th {\n",
       "        vertical-align: top;\n",
       "    }\n",
       "\n",
       "    .dataframe thead th {\n",
       "        text-align: right;\n",
       "    }\n",
       "</style>\n",
       "<table border=\"1\" class=\"dataframe\">\n",
       "  <thead>\n",
       "    <tr style=\"text-align: right;\">\n",
       "      <th></th>\n",
       "      <th>ID_PROVA_BRASIL</th>\n",
       "      <th>Código do Município</th>\n",
       "      <th>Código da Escola</th>\n",
       "      <th>NIVEL_SOCIO_ECONOMICO</th>\n",
       "      <th>MEDIA_5EF_MT</th>\n",
       "      <th>MEDIA_9EF_MT</th>\n",
       "    </tr>\n",
       "  </thead>\n",
       "  <tbody>\n",
       "    <tr>\n",
       "      <th>0</th>\n",
       "      <td>2017</td>\n",
       "      <td>2300101</td>\n",
       "      <td>23168862</td>\n",
       "      <td>Grupo 2</td>\n",
       "      <td>226.24</td>\n",
       "      <td>251.78</td>\n",
       "    </tr>\n",
       "  </tbody>\n",
       "</table>\n",
       "</div>"
      ],
      "text/plain": [
       "   ID_PROVA_BRASIL  Código do Município  Código da Escola  \\\n",
       "0             2017              2300101          23168862   \n",
       "\n",
       "  NIVEL_SOCIO_ECONOMICO  MEDIA_5EF_MT  MEDIA_9EF_MT  \n",
       "0               Grupo 2        226.24        251.78  "
      ]
     },
     "execution_count": 37,
     "metadata": {},
     "output_type": "execute_result"
    }
   ],
   "source": [
    "classe_escola = pd.read_csv(\"base_dados/escolas_2017.csv\")\n",
    "classe_escola = classe_escola.rename(columns={\"ID_MUNICIPIO\": \"Código do Município\", \"ID_ESCOLA\" : \"Código da Escola\"})\n",
    "classe_escola.head(1)"
   ]
  },
  {
   "cell_type": "code",
   "execution_count": 38,
   "metadata": {},
   "outputs": [],
   "source": [
    "socioeconomico = pd.merge(final_5_9, classe_escola, on='Código da Escola')\n"
   ]
  },
  {
   "cell_type": "code",
   "execution_count": 39,
   "metadata": {},
   "outputs": [],
   "source": [
    "socioeconomico = socioeconomico.drop(columns=['Nome do Município_y'])\n",
    "socioeconomico = socioeconomico.rename(columns={\"Nome do Município_x\": \"Nome do Município\"})\n",
    "socioeconomico = socioeconomico.drop(columns=['Código do Município_y'])\n",
    "socioeconomico = socioeconomico.rename(columns={\"Código do Município_x\": \"Código do Município\"})\n"
   ]
  },
  {
   "cell_type": "code",
   "execution_count": 40,
   "metadata": {},
   "outputs": [],
   "source": [
    "socioeconomico['Nome da Escola'] = socioeconomico['Nome da Escola'].str.title()\n",
    "cactus20_municipio = list(cactus20.Municipio)\n",
    "cactus20_inep = list(cactus20.Inep)\n",
    "cactus19_inep = list(cactus19[\"Código INEP\"])\n"
   ]
  },
  {
   "cell_type": "code",
   "execution_count": 43,
   "metadata": {},
   "outputs": [],
   "source": [
    "socio = []\n",
    "for index, row in socioeconomico.iterrows():\n",
    "    if row['Código da Escola'] in cactus19_inep:\n",
    "        socio.append(\"cactus19\")\n",
    "    else:\n",
    "        socio.append(\"não cactus\")\n",
    "        \n",
    "socioeconomico[\"cactus\"] = socio"
   ]
  },
  {
   "cell_type": "code",
   "execution_count": 44,
   "metadata": {},
   "outputs": [
    {
     "data": {
      "text/plain": [
       "não cactus    12112\n",
       "cactus19        280\n",
       "Name: cactus, dtype: int64"
      ]
     },
     "execution_count": 44,
     "metadata": {},
     "output_type": "execute_result"
    }
   ],
   "source": [
    "socioeconomico[\"cactus\"].value_counts()"
   ]
  },
  {
   "cell_type": "code",
   "execution_count": 53,
   "metadata": {},
   "outputs": [
    {
     "data": {
      "text/plain": [
       "Grupo 2    4480\n",
       "Grupo 3    1888\n",
       "Grupo 1    1496\n",
       "Grupo 4       8\n",
       "Name: NIVEL_SOCIO_ECONOMICO, dtype: int64"
      ]
     },
     "execution_count": 53,
     "metadata": {},
     "output_type": "execute_result"
    }
   ],
   "source": [
    "socioeconomico[\"NIVEL_SOCIO_ECONOMICO\"].value_counts()"
   ]
  },
  {
   "cell_type": "code",
   "execution_count": 55,
   "metadata": {},
   "outputs": [],
   "source": [
    "socioeconomico_n = socioeconomico[(socioeconomico[\"NIVEL_SOCIO_ECONOMICO\"] != \"Grupo 4\")]"
   ]
  },
  {
   "cell_type": "code",
   "execution_count": 56,
   "metadata": {},
   "outputs": [
    {
     "data": {
      "text/plain": [
       "Grupo 2    4480\n",
       "Grupo 3    1888\n",
       "Grupo 1    1496\n",
       "Name: NIVEL_SOCIO_ECONOMICO, dtype: int64"
      ]
     },
     "execution_count": 56,
     "metadata": {},
     "output_type": "execute_result"
    }
   ],
   "source": [
    "socioeconomico_n[\"NIVEL_SOCIO_ECONOMICO\"].value_counts()"
   ]
  },
  {
   "cell_type": "code",
   "execution_count": 57,
   "metadata": {},
   "outputs": [],
   "source": [
    "socioeconomico.to_csv(\"base_dados/SAEB_IDEB_SOCIOECONOMICOS_cactus.csv\")"
   ]
  },
  {
   "cell_type": "markdown",
   "metadata": {},
   "source": [
    "*oi*\n"
   ]
  },
  {
   "cell_type": "code",
   "execution_count": null,
   "metadata": {},
   "outputs": [],
   "source": []
  }
 ],
 "metadata": {
  "kernelspec": {
   "display_name": "Python 3",
   "language": "python",
   "name": "python3"
  },
  "language_info": {
   "codemirror_mode": {
    "name": "ipython",
    "version": 3
   },
   "file_extension": ".py",
   "mimetype": "text/x-python",
   "name": "python",
   "nbconvert_exporter": "python",
   "pygments_lexer": "ipython3",
   "version": "3.8.4"
  }
 },
 "nbformat": 4,
 "nbformat_minor": 4
}
